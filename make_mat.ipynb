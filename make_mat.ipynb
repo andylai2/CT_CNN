{
 "cells": [
  {
   "cell_type": "markdown",
   "metadata": {},
   "source": [
    "# Make .mat Files"
   ]
  },
  {
   "cell_type": "markdown",
   "metadata": {},
   "source": [
    "The TensorFlow implementation of FBPConvNet takes .mat files for training and testing. This notebook makes these files from the S70 dataset. There are 50 images in the test set and 644 images in the training set. The reconstructed images in the training set are sparse with 60 views."
   ]
  },
  {
   "cell_type": "markdown",
   "metadata": {},
   "source": [
    "### Import Libraries"
   ]
  },
  {
   "cell_type": "code",
   "execution_count": 30,
   "metadata": {},
   "outputs": [],
   "source": [
    "import os\n",
    "import numpy as np\n",
    "import fbpconv\n",
    "import scipy.io as sio\n",
    "import matplotlib.pyplot as plt\n",
    "from scipy.misc import imsave, imread\n",
    "from skimage.transform import radon, iradon\n",
    "from random import shuffle"
   ]
  },
  {
   "cell_type": "markdown",
   "metadata": {},
   "source": [
    "### Make reconstructed views"
   ]
  },
  {
   "cell_type": "code",
   "execution_count": 32,
   "metadata": {},
   "outputs": [
    {
     "name": "stderr",
     "output_type": "stream",
     "text": [
      "c:\\users\\daniel\\appdata\\local\\programs\\python\\python36\\lib\\site-packages\\ipykernel_launcher.py:21: DeprecationWarning: `imsave` is deprecated!\n",
      "`imsave` is deprecated in SciPy 1.0.0, and will be removed in 1.2.0.\n",
      "Use ``imageio.imwrite`` instead.\n",
      "c:\\users\\daniel\\appdata\\local\\programs\\python\\python36\\lib\\site-packages\\skimage\\transform\\radon_transform.py:58: UserWarning: The default of `circle` in `skimage.transform.radon` will change to `True` in version 0.15.\n",
      "  warn('The default of `circle` in `skimage.transform.radon` '\n",
      "c:\\users\\daniel\\appdata\\local\\programs\\python\\python36\\lib\\site-packages\\skimage\\transform\\radon_transform.py:204: UserWarning: The default of `circle` in `skimage.transform.iradon` will change to `True` in version 0.15.\n",
      "  warn('The default of `circle` in `skimage.transform.iradon` '\n",
      "c:\\users\\daniel\\appdata\\local\\programs\\python\\python36\\lib\\site-packages\\ipykernel_launcher.py:29: DeprecationWarning: `imsave` is deprecated!\n",
      "`imsave` is deprecated in SciPy 1.0.0, and will be removed in 1.2.0.\n",
      "Use ``imageio.imwrite`` instead.\n"
     ]
    }
   ],
   "source": [
    "num_views = 60\n",
    "\n",
    "cur_dir = os.getcwd()\n",
    "data_dir = os.path.join(cur_dir, 'data/train/gt')\n",
    "train_dir = os.path.join(cur_dir, 'data/VHF_dataset/train/')\n",
    "test_dir = os.path.join(cur_dir, 'data/VHF_dataset/test/')\n",
    "list_dir = os.listdir(data_dir)\n",
    "shuffle(list_dir)\n",
    "i = 0\n",
    "for file in list_dir:\n",
    "    # Read in image\n",
    "    path = os.path.join(data_dir, file)\n",
    "    ct = np.load(path)\n",
    "    \n",
    "    # Have 50 images be in test set. The rest are in train set.\n",
    "    if i < 50:\n",
    "        dest_dir = test_dir\n",
    "    else:\n",
    "        dest_dir = train_dir\n",
    "    \n",
    "    imsave(dest_dir + file[:-6] + 'gt.png', ct)\n",
    "    \n",
    "    # Make sparse sinograms\n",
    "    theta = np.linspace(0, 180, num_views, endpoint = False) \n",
    "    sino = radon(ct, theta=theta)\n",
    "\n",
    "    # Reconstruct image and save\n",
    "    recon = iradon(sino, theta=theta)\n",
    "    imsave(dest_dir + file[:-6] + 'fbp.png', recon)    \n",
    "    \n",
    "    i += 1\n",
    "    "
   ]
  },
  {
   "cell_type": "markdown",
   "metadata": {},
   "source": [
    "### Make the .mat files"
   ]
  },
  {
   "cell_type": "code",
   "execution_count": 33,
   "metadata": {},
   "outputs": [
    {
     "name": "stderr",
     "output_type": "stream",
     "text": [
      "c:\\users\\daniel\\appdata\\local\\programs\\python\\python36\\lib\\site-packages\\ipykernel_launcher.py:11: DeprecationWarning: `imread` is deprecated!\n",
      "`imread` is deprecated in SciPy 1.0.0, and will be removed in 1.2.0.\n",
      "Use ``imageio.imread`` instead.\n",
      "  # This is added back by InteractiveShellApp.init_path()\n"
     ]
    },
    {
     "name": "stdout",
     "output_type": "stream",
     "text": [
      "(512, 512, 1, 733)\n",
      "(512, 512, 1, 50)\n"
     ]
    }
   ],
   "source": [
    "# Turn GT and recon images into numpy arrays for .mat file\n",
    "cur_dir = os.getcwd()\n",
    "sets = ['train', 'test']\n",
    "\n",
    "for d_set in sets:\n",
    "    data_dir = os.path.join(cur_dir, 'data/VHF_dataset/' + d_set)\n",
    "    recon_imgs = []\n",
    "    gt_imgs = []\n",
    "    for file in os.listdir(data_dir):\n",
    "        path = os.path.join(data_dir, file)\n",
    "        img = imread(path)\n",
    "\n",
    "        if file.endswith('gt.png'):\n",
    "            gt_imgs.append(img)\n",
    "        elif file.endswith('fbp.png'):\n",
    "            recon_imgs.append(img)\n",
    "\n",
    "    recon_imgs = np.asarray(recon_imgs)\n",
    "    gt_imgs = np.asarray(gt_imgs)\n",
    "\n",
    "    # Move axes around to get into correct format for FBPConvNet\n",
    "    recon_imgs = np.moveaxis(recon_imgs[:,:,:, np.newaxis], 0, -1)\n",
    "    gt_imgs = np.moveaxis(gt_imgs[:,:,:, np.newaxis], 0, -1)\n",
    "\n",
    "    print(recon_imgs.shape)\n",
    "    data_dict = {}\n",
    "    data_dict['sparse'] = recon_imgs\n",
    "    data_dict['label'] = gt_imgs\n",
    "    sio.savemat(d_set + '_vhf.mat', data_dict)\n",
    "\n"
   ]
  },
  {
   "cell_type": "code",
   "execution_count": null,
   "metadata": {},
   "outputs": [],
   "source": [
    "mat_contents= sio.loadmat('train_elips.mat')\n",
    "print(mat_contents.keys())\n",
    "print(mat_contents['sparse'].shape)\n"
   ]
  },
  {
   "cell_type": "code",
   "execution_count": null,
   "metadata": {},
   "outputs": [],
   "source": [
    "plt.figure(figsize=(10,10))\n",
    "plt.subplot(121)\n",
    "plt.imshow(mat_contents['sparse'][:,:,0,0], cmap = plt.cm.bone)\n",
    "plt.subplot(122)\n",
    "plt.imshow(mat_contents['label'][:,:,0,0], cmap = plt.cm.bone)"
   ]
  },
  {
   "cell_type": "code",
   "execution_count": null,
   "metadata": {},
   "outputs": [],
   "source": [
    "train_dir = os.path.join(dest_dir, 'train')\n",
    "dtrain_dir = os.path.join(dest_dir, 'dtrain')\n",
    "test_dir = os.path.join(dest_dir, 'test')\n",
    "dtest_dir = os.path.join(dest_dir, 'dtest')\n",
    "_load_whole_data('fbpconv', train_dir, dtrain_dir)"
   ]
  },
  {
   "cell_type": "code",
   "execution_count": null,
   "metadata": {},
   "outputs": [],
   "source": []
  }
 ],
 "metadata": {
  "kernelspec": {
   "display_name": "Python 3",
   "language": "python",
   "name": "python3"
  },
  "language_info": {
   "codemirror_mode": {
    "name": "ipython",
    "version": 3
   },
   "file_extension": ".py",
   "mimetype": "text/x-python",
   "name": "python",
   "nbconvert_exporter": "python",
   "pygments_lexer": "ipython3",
   "version": "3.6.5"
  }
 },
 "nbformat": 4,
 "nbformat_minor": 2
}
