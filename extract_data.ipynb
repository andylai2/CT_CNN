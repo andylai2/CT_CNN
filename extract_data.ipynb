{
 "cells": [
  {
   "cell_type": "code",
   "execution_count": 33,
   "metadata": {},
   "outputs": [],
   "source": [
    "import sys, os\n",
    "from os.path import join\n",
    "import tomopy\n",
    "import pydicom\n",
    "from pydicom.data import get_testdata_files\n",
    "import numpy as np\n",
    "import scipy\n",
    "from skimage.transform import radon, iradon"
   ]
  },
  {
   "cell_type": "markdown",
   "metadata": {},
   "source": [
    "## Data Divisions\n",
    "\n",
    "### Train\n",
    "Contains all .dcm files from the VHF directories (Pelvis, Head, Hip), and nothing else. Should be no other directories.\n",
    "\n",
    "### Test\n",
    "Contains all .dcm files from the S70 directories, and nothing else.\n",
    "\n",
    "Note: mv0 data is thrown out as it couldn't be read."
   ]
  },
  {
   "cell_type": "code",
   "execution_count": 36,
   "metadata": {},
   "outputs": [],
   "source": [
    "curr_dir = os.getcwd()\n",
    "data_dir = join(curr_dir, 'data')\n",
    "train_dir = join(data_dir, 'train')\n",
    "test_dir = join(data_dir, 'test')\n",
    "\n",
    "train_gt_dir = join(train_dir, 'gt') # Store ground truth\n",
    "train_fbp_dir = join(train_dir, 'fbp') # Store filtered backprojctions\n",
    "train_raw_dir = join(train_dir, 'raw') # Store 'raw' data\n",
    "test_gt_dir = join(test_dir, 'gt') # Store ground truth\n",
    "test_fbp_dir = join(test_dir, 'fbp') # Store filtered backprojections\n",
    "test_raw_dir = join(test_dir, 'raw') # Store 'raw' data\n",
    "\n",
    "# Add .dcm to all the files in test, since they aren't present\n",
    "# Note: only do this once!!!\n",
    "for filename in os.listdir(test_dir):\n",
    "    if filename.endswith(''):\n",
    "        path = join(test_dir, filename)\n",
    "        newpath = path + '.dcm'\n",
    "        os.rename(path,newpath)\n",
    "\n",
    "\n",
    "if not os.path.isdir(train_gt_dir): os.mkdir(train_gt_dir)\n",
    "if not os.path.isdir(train_fbp_dir): os.mkdir(train_fbp_dir)\n",
    "if not os.path.isdir(train_raw_dir): os.mkdir(train_raw_dir)\n",
    "if not os.path.isdir(test_gt_dir): os.mkdir(test_gt_dir)\n",
    "if not os.path.isdir(test_fbp_dir): os.mkdir(test_fbp_dir)\n",
    "if not os.path.isdir(test_raw_dir): os.mkdir(test_raw_dir)\n"
   ]
  },
  {
   "cell_type": "code",
   "execution_count": null,
   "metadata": {},
   "outputs": [
    {
     "name": "stderr",
     "output_type": "stream",
     "text": [
      "C:\\Users\\laian\\Anaconda\\envs\\py37\\lib\\site-packages\\ipykernel_launcher.py:15: DeprecationWarning: object of type <class 'float'> cannot be safely interpreted as an integer.\n",
      "  from ipykernel import kernelapp as app\n",
      "C:\\Users\\laian\\Anaconda\\envs\\py37\\lib\\site-packages\\skimage\\transform\\radon_transform.py:204: UserWarning: The default of `circle` in `skimage.transform.iradon` will change to `True` in version 0.15.\n",
      "  warn('The default of `circle` in `skimage.transform.iradon` '\n"
     ]
    }
   ],
   "source": [
    "# Go through files and save CT data only into the ground truth folders\n",
    "for filename in os.listdir(train_dir):\n",
    "    if filename.endswith('.dcm'):\n",
    "        file_id = filename.split('.')[1] # id we will use to save data\n",
    "        path = join(train_dir,filename) # full path of the file\n",
    "        ds = pydicom.dcmread(path)\n",
    "        \n",
    "        # Extract ct data (ground truth) and save\n",
    "        ct = ds.pixel_array\n",
    "        save_name = file_id + '_gt'\n",
    "        save_path = join(train_gt_dir, save_name)\n",
    "        np.save(save_path, ct)\n",
    "        \n",
    "        # Perform radon trasnform for 'raw' data\n",
    "        theta = np.linspace(0, 180, max(ct.shape)/2, endpoint = False) # for a worse reconstruction\n",
    "        sino = radon(ct, theta=theta)\n",
    "        save_name = file_id + '_raw'\n",
    "        save_path = join(train_raw_dir, save_name)\n",
    "        np.save(save_path, sino)\n",
    "        \n",
    "        # Perform fbp using iradon (not a great method but it's okay)\n",
    "        fbp = iradon(sino, theta=theta)\n",
    "        save_name = file_id + 'fbp'\n",
    "        save_path = join(train_fbp_dir, save_name)\n",
    "        np.save(save_path, fbp)"
   ]
  },
  {
   "cell_type": "code",
   "execution_count": null,
   "metadata": {},
   "outputs": [],
   "source": [
    "for filename in os.listdir(test_dir):\n",
    "    if filename.endswith('.dcm'):\n",
    "        file_id = filename.split('.')[0] # id we will use to save data\n",
    "        path = join(test_dir,filename) # full path of the file\n",
    "        ds = pydicom.dcmread(path)\n",
    "        \n",
    "        # Extract ct data (ground truth) and save\n",
    "        ct = ds.pixel_array\n",
    "        save_name = file_id + '_gt'\n",
    "        save_path = join(test_gt_dir, save_name)\n",
    "        np.save(save_path, ct)\n",
    "        \n",
    "        # Perform radon trasnform for 'raw' data\n",
    "        theta = np.linspace(0, 180, max(ct.shape)/2, endpoint = False) # for a worse reconstruction\n",
    "        sino = radon(ct, theta=theta)\n",
    "        save_name = file_id + '_raw'\n",
    "        save_path = join(test_raw_dir, save_name)\n",
    "        np.save(save_path, sino)\n",
    "        \n",
    "        # Perform fbp using iradon (not a great method but it's okay)\n",
    "        fbp = iradon(sino, theta=theta)\n",
    "        save_name = file_id + 'fbp'\n",
    "        save_path = join(test_fbp_dir, save_name)\n",
    "        np.save(save_path, fbp)"
   ]
  }
 ],
 "metadata": {
  "kernelspec": {
   "display_name": "Python 3",
   "language": "python",
   "name": "python3"
  },
  "language_info": {
   "codemirror_mode": {
    "name": "ipython",
    "version": 3
   },
   "file_extension": ".py",
   "mimetype": "text/x-python",
   "name": "python",
   "nbconvert_exporter": "python",
   "pygments_lexer": "ipython3",
   "version": "3.6.6"
  }
 },
 "nbformat": 4,
 "nbformat_minor": 2
}
